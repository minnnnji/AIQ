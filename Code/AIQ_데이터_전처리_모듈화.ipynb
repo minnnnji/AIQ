{
  "nbformat": 4,
  "nbformat_minor": 0,
  "metadata": {
    "colab": {
      "name": "AIQ 데이터 전처리 모듈화",
      "provenance": []
    },
    "kernelspec": {
      "name": "python3",
      "display_name": "Python 3"
    },
    "language_info": {
      "name": "python"
    }
  },
  "cells": [
    {
      "cell_type": "markdown",
      "metadata": {
        "id": "E9sQ3HWamP4Y"
      },
      "source": [
        "### LOAD DATA"
      ]
    },
    {
      "cell_type": "code",
      "metadata": {
        "colab": {
          "base_uri": "https://localhost:8080/"
        },
        "id": "jUScwH7rmAd7",
        "outputId": "b92bb451-393f-4b45-ba30-71a69fbc8cf9"
      },
      "source": [
        "!gdown --id 1gof8UOAmxce-UhB0uzZSZMgIJWN9IlP7\n",
        "!gdown --id 13G1rUPfogiP1fLGH7XUGRQQWxREhR0um\n",
        "!gdown --id 1crZOJ4WWYfjgRn_52sPoftYUrUY-wo6_\n",
        "!gdown --id 1e-2Ajk2mwW03lVmNydls4HcgYskOE8Qi"
      ],
      "execution_count": null,
      "outputs": [
        {
          "output_type": "stream",
          "name": "stdout",
          "text": [
            "Downloading...\n",
            "From: https://drive.google.com/uc?id=1gof8UOAmxce-UhB0uzZSZMgIJWN9IlP7\n",
            "To: /content/market_condition.csv\n",
            "100% 75.0k/75.0k [00:00<00:00, 18.6MB/s]\n",
            "Downloading...\n",
            "From: https://drive.google.com/uc?id=13G1rUPfogiP1fLGH7XUGRQQWxREhR0um\n",
            "To: /content/kospi.csv\n",
            "100% 31.3k/31.3k [00:00<00:00, 11.7MB/s]\n",
            "Downloading...\n",
            "From: https://drive.google.com/uc?id=1crZOJ4WWYfjgRn_52sPoftYUrUY-wo6_\n",
            "To: /content/daily_price.csv\n",
            "100% 12.3M/12.3M [00:00<00:00, 33.8MB/s]\n",
            "Downloading...\n",
            "From: https://drive.google.com/uc?id=1e-2Ajk2mwW03lVmNydls4HcgYskOE8Qi\n",
            "To: /content/company_info_add_sectors.csv\n",
            "100% 9.62k/9.62k [00:00<00:00, 15.6MB/s]\n"
          ]
        }
      ]
    },
    {
      "cell_type": "code",
      "metadata": {
        "id": "tE8OudxZnlZn"
      },
      "source": [
        "import pandas as pd\n",
        "import numpy as np\n",
        "import warnings\n",
        "import matplotlib.pyplot as plt\n",
        "import seaborn as sns\n",
        "\n",
        "pd.set_option(\"max_rows\", None)\n",
        "warnings.filterwarnings(action='ignore')"
      ],
      "execution_count": null,
      "outputs": []
    },
    {
      "cell_type": "code",
      "metadata": {
        "colab": {
          "base_uri": "https://localhost:8080/",
          "height": 201
        },
        "id": "4YwD0J6VoDiC",
        "outputId": "0d32e456-2fee-49ea-d6ef-45aa667cf7de"
      },
      "source": [
        "market = pd.read_csv('market_condition.csv')\n",
        "kospi = pd.read_csv('kospi.csv')\n",
        "price = pd.read_csv('daily_price.csv')\n",
        "info = pd.read_csv('company_info_add_sectors.csv', header = None)\n",
        "\n",
        "market.head()"
      ],
      "execution_count": null,
      "outputs": [
        {
          "output_type": "execute_result",
          "data": {
            "text/html": [
              "<div>\n",
              "<style scoped>\n",
              "    .dataframe tbody tr th:only-of-type {\n",
              "        vertical-align: middle;\n",
              "    }\n",
              "\n",
              "    .dataframe tbody tr th {\n",
              "        vertical-align: top;\n",
              "    }\n",
              "\n",
              "    .dataframe thead th {\n",
              "        text-align: right;\n",
              "    }\n",
              "</style>\n",
              "<table border=\"1\" class=\"dataframe\">\n",
              "  <thead>\n",
              "    <tr style=\"text-align: right;\">\n",
              "      <th></th>\n",
              "      <th>date</th>\n",
              "      <th>wti</th>\n",
              "      <th>wti_rate</th>\n",
              "      <th>gold</th>\n",
              "      <th>gold_rate</th>\n",
              "      <th>cooper</th>\n",
              "      <th>cooper_rate</th>\n",
              "      <th>dollar</th>\n",
              "      <th>dollar_rate</th>\n",
              "    </tr>\n",
              "  </thead>\n",
              "  <tbody>\n",
              "    <tr>\n",
              "      <th>0</th>\n",
              "      <td>2016-10-04</td>\n",
              "      <td>48.69</td>\n",
              "      <td>-0.24</td>\n",
              "      <td>1266.3</td>\n",
              "      <td>-3.37</td>\n",
              "      <td>4790.5</td>\n",
              "      <td>-0.34</td>\n",
              "      <td>1110.0</td>\n",
              "      <td>0.54</td>\n",
              "    </tr>\n",
              "    <tr>\n",
              "      <th>1</th>\n",
              "      <td>2016-10-05</td>\n",
              "      <td>49.83</td>\n",
              "      <td>2.34</td>\n",
              "      <td>1265.2</td>\n",
              "      <td>-0.09</td>\n",
              "      <td>4777.5</td>\n",
              "      <td>-0.27</td>\n",
              "      <td>1114.0</td>\n",
              "      <td>0.36</td>\n",
              "    </tr>\n",
              "    <tr>\n",
              "      <th>2</th>\n",
              "      <td>2016-10-06</td>\n",
              "      <td>50.44</td>\n",
              "      <td>1.22</td>\n",
              "      <td>1249.8</td>\n",
              "      <td>-1.22</td>\n",
              "      <td>4742.0</td>\n",
              "      <td>-0.74</td>\n",
              "      <td>1117.5</td>\n",
              "      <td>0.31</td>\n",
              "    </tr>\n",
              "    <tr>\n",
              "      <th>3</th>\n",
              "      <td>2016-10-07</td>\n",
              "      <td>49.81</td>\n",
              "      <td>-1.25</td>\n",
              "      <td>1248.9</td>\n",
              "      <td>-0.07</td>\n",
              "      <td>4742.0</td>\n",
              "      <td>0.00</td>\n",
              "      <td>1115.5</td>\n",
              "      <td>-0.18</td>\n",
              "    </tr>\n",
              "    <tr>\n",
              "      <th>4</th>\n",
              "      <td>2016-10-10</td>\n",
              "      <td>51.35</td>\n",
              "      <td>3.09</td>\n",
              "      <td>1257.5</td>\n",
              "      <td>0.69</td>\n",
              "      <td>4786.0</td>\n",
              "      <td>0.93</td>\n",
              "      <td>1111.5</td>\n",
              "      <td>-0.36</td>\n",
              "    </tr>\n",
              "  </tbody>\n",
              "</table>\n",
              "</div>"
            ],
            "text/plain": [
              "         date    wti  wti_rate  ...  cooper_rate  dollar  dollar_rate\n",
              "0  2016-10-04  48.69     -0.24  ...        -0.34  1110.0         0.54\n",
              "1  2016-10-05  49.83      2.34  ...        -0.27  1114.0         0.36\n",
              "2  2016-10-06  50.44      1.22  ...        -0.74  1117.5         0.31\n",
              "3  2016-10-07  49.81     -1.25  ...         0.00  1115.5        -0.18\n",
              "4  2016-10-10  51.35      3.09  ...         0.93  1111.5        -0.36\n",
              "\n",
              "[5 rows x 9 columns]"
            ]
          },
          "metadata": {},
          "execution_count": 3
        }
      ]
    },
    {
      "cell_type": "markdown",
      "metadata": {
        "id": "-HWfiHPOesrx"
      },
      "source": [
        "##### TEST"
      ]
    },
    {
      "cell_type": "code",
      "metadata": {
        "colab": {
          "base_uri": "https://localhost:8080/",
          "height": 352
        },
        "id": "YslcdirMesH1",
        "outputId": "b3b12628-5a80-4605-9c64-5873590d5f58"
      },
      "source": [
        "gold_data = market[['gold', 'gold_rate']]\n",
        "gold_data['gold_1'] = round((gold_data['gold'] - gold_data['gold'].rolling(window = 2).mean()) / gold_data['gold'].rolling(window = 2).mean() * 100, 2)\n",
        "gold_data['gold_20'] = round((gold_data['gold'] - gold_data['gold'].rolling(window = 21).mean()) / gold_data['gold'].rolling(window = 21).mean() * 100, 2)\n",
        "gold_data['gold_65'] = round((gold_data['gold'] - gold_data['gold'].rolling(window = 66).mean()) / gold_data['gold'].rolling(window = 66).mean() * 100, 2)\n",
        "gold_data[:10]"
      ],
      "execution_count": null,
      "outputs": [
        {
          "output_type": "execute_result",
          "data": {
            "text/html": [
              "<div>\n",
              "<style scoped>\n",
              "    .dataframe tbody tr th:only-of-type {\n",
              "        vertical-align: middle;\n",
              "    }\n",
              "\n",
              "    .dataframe tbody tr th {\n",
              "        vertical-align: top;\n",
              "    }\n",
              "\n",
              "    .dataframe thead th {\n",
              "        text-align: right;\n",
              "    }\n",
              "</style>\n",
              "<table border=\"1\" class=\"dataframe\">\n",
              "  <thead>\n",
              "    <tr style=\"text-align: right;\">\n",
              "      <th></th>\n",
              "      <th>gold</th>\n",
              "      <th>gold_rate</th>\n",
              "      <th>gold_1</th>\n",
              "      <th>gold_20</th>\n",
              "      <th>gold_65</th>\n",
              "    </tr>\n",
              "  </thead>\n",
              "  <tbody>\n",
              "    <tr>\n",
              "      <th>0</th>\n",
              "      <td>1266.3</td>\n",
              "      <td>-3.37</td>\n",
              "      <td>NaN</td>\n",
              "      <td>NaN</td>\n",
              "      <td>NaN</td>\n",
              "    </tr>\n",
              "    <tr>\n",
              "      <th>1</th>\n",
              "      <td>1265.2</td>\n",
              "      <td>-0.09</td>\n",
              "      <td>-0.04</td>\n",
              "      <td>NaN</td>\n",
              "      <td>NaN</td>\n",
              "    </tr>\n",
              "    <tr>\n",
              "      <th>2</th>\n",
              "      <td>1249.8</td>\n",
              "      <td>-1.22</td>\n",
              "      <td>-0.61</td>\n",
              "      <td>NaN</td>\n",
              "      <td>NaN</td>\n",
              "    </tr>\n",
              "    <tr>\n",
              "      <th>3</th>\n",
              "      <td>1248.9</td>\n",
              "      <td>-0.07</td>\n",
              "      <td>-0.04</td>\n",
              "      <td>NaN</td>\n",
              "      <td>NaN</td>\n",
              "    </tr>\n",
              "    <tr>\n",
              "      <th>4</th>\n",
              "      <td>1257.5</td>\n",
              "      <td>0.69</td>\n",
              "      <td>0.34</td>\n",
              "      <td>NaN</td>\n",
              "      <td>NaN</td>\n",
              "    </tr>\n",
              "    <tr>\n",
              "      <th>5</th>\n",
              "      <td>1253.0</td>\n",
              "      <td>-0.36</td>\n",
              "      <td>-0.18</td>\n",
              "      <td>NaN</td>\n",
              "      <td>NaN</td>\n",
              "    </tr>\n",
              "    <tr>\n",
              "      <th>6</th>\n",
              "      <td>1251.1</td>\n",
              "      <td>-0.15</td>\n",
              "      <td>-0.08</td>\n",
              "      <td>NaN</td>\n",
              "      <td>NaN</td>\n",
              "    </tr>\n",
              "    <tr>\n",
              "      <th>7</th>\n",
              "      <td>1255.0</td>\n",
              "      <td>0.31</td>\n",
              "      <td>0.16</td>\n",
              "      <td>NaN</td>\n",
              "      <td>NaN</td>\n",
              "    </tr>\n",
              "    <tr>\n",
              "      <th>8</th>\n",
              "      <td>1253.1</td>\n",
              "      <td>-0.15</td>\n",
              "      <td>-0.08</td>\n",
              "      <td>NaN</td>\n",
              "      <td>NaN</td>\n",
              "    </tr>\n",
              "    <tr>\n",
              "      <th>9</th>\n",
              "      <td>1254.4</td>\n",
              "      <td>0.10</td>\n",
              "      <td>0.05</td>\n",
              "      <td>NaN</td>\n",
              "      <td>NaN</td>\n",
              "    </tr>\n",
              "  </tbody>\n",
              "</table>\n",
              "</div>"
            ],
            "text/plain": [
              "     gold  gold_rate  gold_1  gold_20  gold_65\n",
              "0  1266.3      -3.37     NaN      NaN      NaN\n",
              "1  1265.2      -0.09   -0.04      NaN      NaN\n",
              "2  1249.8      -1.22   -0.61      NaN      NaN\n",
              "3  1248.9      -0.07   -0.04      NaN      NaN\n",
              "4  1257.5       0.69    0.34      NaN      NaN\n",
              "5  1253.0      -0.36   -0.18      NaN      NaN\n",
              "6  1251.1      -0.15   -0.08      NaN      NaN\n",
              "7  1255.0       0.31    0.16      NaN      NaN\n",
              "8  1253.1      -0.15   -0.08      NaN      NaN\n",
              "9  1254.4       0.10    0.05      NaN      NaN"
            ]
          },
          "metadata": {},
          "execution_count": 4
        }
      ]
    },
    {
      "cell_type": "markdown",
      "metadata": {
        "id": "-0tIDE_mpwEf"
      },
      "source": [
        "### Check DF"
      ]
    },
    {
      "cell_type": "code",
      "metadata": {
        "colab": {
          "base_uri": "https://localhost:8080/",
          "height": 303
        },
        "id": "dpMiHecroV00",
        "outputId": "20bf27ec-6102-4b80-ee27-31a5b744201d"
      },
      "source": [
        "kospi.head()"
      ],
      "execution_count": null,
      "outputs": [
        {
          "output_type": "execute_result",
          "data": {
            "text/html": [
              "<div>\n",
              "<style scoped>\n",
              "    .dataframe tbody tr th:only-of-type {\n",
              "        vertical-align: middle;\n",
              "    }\n",
              "\n",
              "    .dataframe tbody tr th {\n",
              "        vertical-align: top;\n",
              "    }\n",
              "\n",
              "    .dataframe thead th {\n",
              "        text-align: right;\n",
              "    }\n",
              "</style>\n",
              "<table border=\"1\" class=\"dataframe\">\n",
              "  <thead>\n",
              "    <tr style=\"text-align: right;\">\n",
              "      <th></th>\n",
              "      <th>date</th>\n",
              "      <th>kospi</th>\n",
              "      <th>rate</th>\n",
              "    </tr>\n",
              "  </thead>\n",
              "  <tbody>\n",
              "    <tr>\n",
              "      <th>0</th>\n",
              "      <td>2016-10-04</td>\n",
              "      <td>2054.86</td>\n",
              "      <td>0.55</td>\n",
              "    </tr>\n",
              "    <tr>\n",
              "      <th>1</th>\n",
              "      <td>2016-10-05</td>\n",
              "      <td>2053.00</td>\n",
              "      <td>-0.09</td>\n",
              "    </tr>\n",
              "    <tr>\n",
              "      <th>2</th>\n",
              "      <td>2016-10-06</td>\n",
              "      <td>2065.30</td>\n",
              "      <td>0.60</td>\n",
              "    </tr>\n",
              "    <tr>\n",
              "      <th>3</th>\n",
              "      <td>2016-10-07</td>\n",
              "      <td>2053.80</td>\n",
              "      <td>-0.56</td>\n",
              "    </tr>\n",
              "    <tr>\n",
              "      <th>4</th>\n",
              "      <td>2016-10-10</td>\n",
              "      <td>2056.82</td>\n",
              "      <td>0.15</td>\n",
              "    </tr>\n",
              "  </tbody>\n",
              "</table>\n",
              "</div>"
            ],
            "text/plain": [
              "         date    kospi  rate\n",
              "0  2016-10-04  2054.86  0.55\n",
              "1  2016-10-05  2053.00 -0.09\n",
              "2  2016-10-06  2065.30  0.60\n",
              "3  2016-10-07  2053.80 -0.56\n",
              "4  2016-10-10  2056.82  0.15"
            ]
          },
          "metadata": {},
          "execution_count": 16
        }
      ]
    },
    {
      "cell_type": "code",
      "metadata": {
        "colab": {
          "base_uri": "https://localhost:8080/",
          "height": 303
        },
        "id": "6q-R37ITohro",
        "outputId": "078ecf85-7d4f-4c09-e2c8-6fa166e468f4"
      },
      "source": [
        "price.head()"
      ],
      "execution_count": null,
      "outputs": [
        {
          "output_type": "execute_result",
          "data": {
            "text/html": [
              "<div>\n",
              "<style scoped>\n",
              "    .dataframe tbody tr th:only-of-type {\n",
              "        vertical-align: middle;\n",
              "    }\n",
              "\n",
              "    .dataframe tbody tr th {\n",
              "        vertical-align: top;\n",
              "    }\n",
              "\n",
              "    .dataframe thead th {\n",
              "        text-align: right;\n",
              "    }\n",
              "</style>\n",
              "<table border=\"1\" class=\"dataframe\">\n",
              "  <thead>\n",
              "    <tr style=\"text-align: right;\">\n",
              "      <th></th>\n",
              "      <th>code</th>\n",
              "      <th>date</th>\n",
              "      <th>day_of_week</th>\n",
              "      <th>month</th>\n",
              "      <th>ascent_1</th>\n",
              "      <th>volume_1</th>\n",
              "      <th>wti_rate</th>\n",
              "      <th>gold_rate</th>\n",
              "      <th>cooper_rate</th>\n",
              "      <th>dollar_rate</th>\n",
              "    </tr>\n",
              "  </thead>\n",
              "  <tbody>\n",
              "    <tr>\n",
              "      <th>1</th>\n",
              "      <td>60</td>\n",
              "      <td>2016-10-05</td>\n",
              "      <td>2</td>\n",
              "      <td>10</td>\n",
              "      <td>-0.16</td>\n",
              "      <td>-6.08</td>\n",
              "      <td>2.34</td>\n",
              "      <td>-0.09</td>\n",
              "      <td>-0.27</td>\n",
              "      <td>0.36</td>\n",
              "    </tr>\n",
              "    <tr>\n",
              "      <th>2</th>\n",
              "      <td>60</td>\n",
              "      <td>2016-10-06</td>\n",
              "      <td>3</td>\n",
              "      <td>10</td>\n",
              "      <td>0.48</td>\n",
              "      <td>5.43</td>\n",
              "      <td>1.22</td>\n",
              "      <td>-1.22</td>\n",
              "      <td>-0.74</td>\n",
              "      <td>0.31</td>\n",
              "    </tr>\n",
              "    <tr>\n",
              "      <th>3</th>\n",
              "      <td>60</td>\n",
              "      <td>2016-10-07</td>\n",
              "      <td>4</td>\n",
              "      <td>10</td>\n",
              "      <td>-0.48</td>\n",
              "      <td>-23.01</td>\n",
              "      <td>-1.25</td>\n",
              "      <td>-0.07</td>\n",
              "      <td>0.00</td>\n",
              "      <td>-0.18</td>\n",
              "    </tr>\n",
              "    <tr>\n",
              "      <th>4</th>\n",
              "      <td>60</td>\n",
              "      <td>2016-10-10</td>\n",
              "      <td>0</td>\n",
              "      <td>10</td>\n",
              "      <td>-0.16</td>\n",
              "      <td>-50.94</td>\n",
              "      <td>3.09</td>\n",
              "      <td>0.69</td>\n",
              "      <td>0.93</td>\n",
              "      <td>-0.36</td>\n",
              "    </tr>\n",
              "    <tr>\n",
              "      <th>5</th>\n",
              "      <td>60</td>\n",
              "      <td>2016-10-11</td>\n",
              "      <td>1</td>\n",
              "      <td>10</td>\n",
              "      <td>0.48</td>\n",
              "      <td>67.10</td>\n",
              "      <td>-1.09</td>\n",
              "      <td>-0.36</td>\n",
              "      <td>0.32</td>\n",
              "      <td>1.12</td>\n",
              "    </tr>\n",
              "  </tbody>\n",
              "</table>\n",
              "</div>"
            ],
            "text/plain": [
              "   code       date  day_of_week  ...  gold_rate  cooper_rate  dollar_rate\n",
              "1    60 2016-10-05            2  ...      -0.09        -0.27         0.36\n",
              "2    60 2016-10-06            3  ...      -1.22        -0.74         0.31\n",
              "3    60 2016-10-07            4  ...      -0.07         0.00        -0.18\n",
              "4    60 2016-10-10            0  ...       0.69         0.93        -0.36\n",
              "5    60 2016-10-11            1  ...      -0.36         0.32         1.12\n",
              "\n",
              "[5 rows x 10 columns]"
            ]
          },
          "metadata": {},
          "execution_count": 17
        }
      ]
    },
    {
      "cell_type": "code",
      "metadata": {
        "colab": {
          "base_uri": "https://localhost:8080/"
        },
        "id": "_4a5_TNPoj67",
        "outputId": "88f099a6-8aab-4e71-817e-b2547b0003bb"
      },
      "source": [
        "price.info()"
      ],
      "execution_count": null,
      "outputs": [
        {
          "output_type": "stream",
          "name": "stdout",
          "text": [
            "<class 'pandas.core.frame.DataFrame'>\n",
            "Int64Index: 229619 entries, 1 to 229781\n",
            "Data columns (total 10 columns):\n",
            " #   Column       Non-Null Count   Dtype         \n",
            "---  ------       --------------   -----         \n",
            " 0   code         229619 non-null  int64         \n",
            " 1   date         229619 non-null  datetime64[ns]\n",
            " 2   day_of_week  229619 non-null  int64         \n",
            " 3   month        229619 non-null  int64         \n",
            " 4   ascent_1     229619 non-null  float64       \n",
            " 5   volume_1     228278 non-null  float64       \n",
            " 6   wti_rate     229619 non-null  float64       \n",
            " 7   gold_rate    229619 non-null  float64       \n",
            " 8   cooper_rate  229619 non-null  float64       \n",
            " 9   dollar_rate  229619 non-null  float64       \n",
            "dtypes: datetime64[ns](1), float64(6), int64(3)\n",
            "memory usage: 19.3 MB\n"
          ]
        }
      ]
    },
    {
      "cell_type": "code",
      "metadata": {
        "colab": {
          "base_uri": "https://localhost:8080/"
        },
        "id": "oh2O_roCgsxK",
        "outputId": "cc18f74a-1037-445e-fbc3-cd0893897b40"
      },
      "source": [
        "info.info()"
      ],
      "execution_count": null,
      "outputs": [
        {
          "output_type": "stream",
          "name": "stdout",
          "text": [
            "<class 'pandas.core.frame.DataFrame'>\n",
            "RangeIndex: 198 entries, 0 to 197\n",
            "Data columns (total 4 columns):\n",
            " #   Column  Non-Null Count  Dtype \n",
            "---  ------  --------------  ----- \n",
            " 0   code    198 non-null    int64 \n",
            " 1   name    198 non-null    object\n",
            " 2   sector  198 non-null    object\n",
            " 3   date    198 non-null    object\n",
            "dtypes: int64(1), object(3)\n",
            "memory usage: 6.3+ KB\n"
          ]
        }
      ]
    },
    {
      "cell_type": "code",
      "metadata": {
        "id": "L1VgAFBig4qm"
      },
      "source": [
        "info.columns = ['code', 'name', 'sector', 'date']"
      ],
      "execution_count": null,
      "outputs": []
    },
    {
      "cell_type": "code",
      "metadata": {
        "colab": {
          "base_uri": "https://localhost:8080/",
          "height": 352
        },
        "id": "sdyvtGpbgvTs",
        "outputId": "d649fee1-b706-4802-8015-80c7a5a06458"
      },
      "source": [
        "info.head()"
      ],
      "execution_count": null,
      "outputs": [
        {
          "output_type": "execute_result",
          "data": {
            "text/html": [
              "<div>\n",
              "<style scoped>\n",
              "    .dataframe tbody tr th:only-of-type {\n",
              "        vertical-align: middle;\n",
              "    }\n",
              "\n",
              "    .dataframe tbody tr th {\n",
              "        vertical-align: top;\n",
              "    }\n",
              "\n",
              "    .dataframe thead th {\n",
              "        text-align: right;\n",
              "    }\n",
              "</style>\n",
              "<table border=\"1\" class=\"dataframe\">\n",
              "  <thead>\n",
              "    <tr style=\"text-align: right;\">\n",
              "      <th></th>\n",
              "      <th>code</th>\n",
              "      <th>name</th>\n",
              "      <th>sector</th>\n",
              "      <th>date</th>\n",
              "    </tr>\n",
              "  </thead>\n",
              "  <tbody>\n",
              "    <tr>\n",
              "      <th>0</th>\n",
              "      <td>60</td>\n",
              "      <td>메리츠화재</td>\n",
              "      <td>손해보험</td>\n",
              "      <td>2021-10-26</td>\n",
              "    </tr>\n",
              "    <tr>\n",
              "      <th>1</th>\n",
              "      <td>100</td>\n",
              "      <td>유한양행</td>\n",
              "      <td>제약</td>\n",
              "      <td>2021-10-26</td>\n",
              "    </tr>\n",
              "    <tr>\n",
              "      <th>2</th>\n",
              "      <td>120</td>\n",
              "      <td>CJ대한통운</td>\n",
              "      <td>항공화물운송과물류</td>\n",
              "      <td>2021-10-26</td>\n",
              "    </tr>\n",
              "    <tr>\n",
              "      <th>3</th>\n",
              "      <td>250</td>\n",
              "      <td>삼천당제약</td>\n",
              "      <td>제약</td>\n",
              "      <td>2021-10-26</td>\n",
              "    </tr>\n",
              "    <tr>\n",
              "      <th>4</th>\n",
              "      <td>270</td>\n",
              "      <td>기아</td>\n",
              "      <td>자동차</td>\n",
              "      <td>2021-10-26</td>\n",
              "    </tr>\n",
              "  </tbody>\n",
              "</table>\n",
              "</div>"
            ],
            "text/plain": [
              "   code    name     sector        date\n",
              "0    60   메리츠화재       손해보험  2021-10-26\n",
              "1   100    유한양행         제약  2021-10-26\n",
              "2   120  CJ대한통운  항공화물운송과물류  2021-10-26\n",
              "3   250   삼천당제약         제약  2021-10-26\n",
              "4   270      기아        자동차  2021-10-26"
            ]
          },
          "metadata": {},
          "execution_count": 21
        }
      ]
    },
    {
      "cell_type": "code",
      "metadata": {
        "colab": {
          "base_uri": "https://localhost:8080/"
        },
        "id": "iKw0kqeyhBes",
        "outputId": "67ca6e3d-a0ee-4d6b-a231-5a7d2ed65336"
      },
      "source": [
        "sector_unique = info['sector'].unique()\n",
        "len(sector_unique)"
      ],
      "execution_count": null,
      "outputs": [
        {
          "output_type": "execute_result",
          "data": {
            "text/plain": [
              "51"
            ]
          },
          "metadata": {},
          "execution_count": 22
        }
      ]
    },
    {
      "cell_type": "code",
      "metadata": {
        "colab": {
          "base_uri": "https://localhost:8080/"
        },
        "id": "CJGF2mrnKKSR",
        "outputId": "026d6ca7-f5d5-4f6a-ff88-fa2d4cc42ecf"
      },
      "source": [
        "code_unique = price['code'].unique()\n",
        "len(code_unique)"
      ],
      "execution_count": null,
      "outputs": [
        {
          "output_type": "execute_result",
          "data": {
            "text/plain": [
              "199"
            ]
          },
          "metadata": {},
          "execution_count": 23
        }
      ]
    },
    {
      "cell_type": "code",
      "metadata": {
        "id": "5Ef7DE8ihNRF",
        "colab": {
          "base_uri": "https://localhost:8080/"
        },
        "outputId": "59ac507a-4cda-4836-9f12-a68f95a46f6e"
      },
      "source": [
        "sector_dic = {}\n",
        "\n",
        "for sector in sector_unique:\n",
        "  tmp = info[info['sector'] == sector]['name'].tolist()\n",
        "  code_tmp = info[info['sector'] == sector]['code'].tolist()\n",
        "\n",
        "  print(f'업종 이름 : {sector} / 기업 이름 : {tmp}\\n')\n",
        "  sector_dic[sector] = code_tmp \n",
        "  # 업종 이름 \\n 이면 예외처리 해야함 -> 혜정언니가 없애줌"
      ],
      "execution_count": null,
      "outputs": [
        {
          "output_type": "stream",
          "name": "stdout",
          "text": [
            "업종 이름 : 손해보험 / 기업 이름 : ['메리츠화재', '삼성화재', 'DB손해보험', '메리츠금융지주']\n",
            "\n",
            "업종 이름 : 제약 / 기업 이름 : ['유한양행', '삼천당제약', '한미사이언스', '에이치엘비생명과학', '셀트리온', '셀트리온제약', '동국제약', '셀트리온헬스케어', '한미약품', '콜마비앤에이치', '삼성바이오로직스', '파마리서치', '메드팩토', '에스티팜', '압타바이오', '국전약품', '박셀바이오', 'SK바이오팜']\n",
            "\n",
            "업종 이름 : 항공화물운송과물류 / 기업 이름 : ['CJ대한통운', '현대글로비스']\n",
            "\n",
            "업종 이름 : 자동차 / 기업 이름 : ['기아', '현대차', '현대차2우B']\n",
            "\n",
            "업종 이름 : 반도체와반도체장비 / 기업 이름 : ['SK하이닉스', '동진쎄미켐', '삼성전자', '삼성전자우', '네패스', 'SFA반도체', '솔브레인홀딩스', '이오테크닉스', '리노공업', '티씨케이', '젬백스', '유진테크', '에스앤에스텍', '하나머티리얼즈', '코미코', '원익IPS', '솔브레인']\n",
            "\n",
            "업종 이름 : 건설 / 기업 이름 : ['현대건설', 'GS건설', '삼성엔지니어링']\n",
            "\n",
            "업종 이름 : 화장품 / 기업 이름 : ['아모레G', '현대바이오', 'LG생활건강', '아모레퍼시픽']\n",
            "\n",
            "업종 이름 : 식품 / 기업 이름 : ['하림지주', '롯데지주', '동서', 'CJ제일제당', '메지온', '오리온']\n",
            "\n",
            "업종 이름 : 건축자재 / 기업 이름 : ['쌍용C&E', '동화기업']\n",
            "\n",
            "업종 이름 : 항공사 / 기업 이름 : ['대한항공', '한진칼']\n",
            "\n",
            "업종 이름 : 복합기업 / 기업 이름 : ['LG', '삼성물산', 'SK']\n",
            "\n",
            "업종 이름 : 화학 / 기업 이름 : ['포스코케미칼', '한화솔루션', 'OCI', '롯데케미칼', '금호석유', 'SKC', '한솔케미칼', 'LG화학', '에코프로', '효성첨단소재']\n",
            "\n",
            "업종 이름 : 철강 / 기업 이름 : ['현대제철', 'POSCO']\n",
            "\n",
            "업종 이름 : 증권 / 기업 이름 : ['NH투자증권', '미래에셋증권', '메리츠증권', '삼성증권', '한국금융지주']\n",
            "\n",
            "업종 이름 : 전기제품 / 기업 이름 : ['삼성SDI', '엘앤에프', '피엔티', '씨아이에스', '에코프로비엠', '두산퓨얼셀']\n",
            "\n",
            "업종 이름 : 백화점과일반상점 / 기업 이름 : ['GS리테일', '이마트']\n",
            "\n",
            "업종 이름 : 생물공학 / 기업 이름 : ['네이처셀', '오스코텍', '바이오니아', '헬릭스미스', '차바이오텍', '메디톡스', '제넥신', '휴젤', '알테오젠', '유바이오로직스', '케어젠', '신라젠', '셀리버리', '에이비엘바이오']\n",
            "\n",
            "업종 이름 : 호텔및레저 / 기업 이름 : ['호텔신라', '아난티', '파라다이스', '강원랜드']\n",
            "\n",
            "업종 이름 : 전자장비와기기 / 기업 이름 : ['삼성전기', 'LG이노텍', '일진머티리얼즈', '다원시스', '대주전자재료', '아이티엠반도체', '상아프론테크', '고영', '파크시스템스', '심텍', '이녹스첨단소재']\n",
            "\n",
            "업종 이름 : 조선 / 기업 이름 : ['한국조선해양', '삼성중공업', '현대미포조선', '에이치엘비', '삼강엠앤티']\n",
            "\n",
            "업종 이름 : 비철금속 / 기업 이름 : ['고려아연']\n",
            "\n",
            "업종 이름 : 석유와가스 / 기업 이름 : ['S-Oil', 'GS', 'SK이노베이션', '현대중공업지주']\n",
            "\n",
            "업종 이름 : 해운사 / 기업 이름 : ['HMM', '팬오션']\n",
            "\n",
            "업종 이름 : 자동차부품 / 기업 이름 : ['현대모비스', '한온시스템', '한국타이어앤테크놀로지']\n",
            "\n",
            "업종 이름 : 상업서비스와공급품 / 기업 이름 : ['에스원', 'NICE평가정보']\n",
            "\n",
            "업종 이름 : 전기유틸리티 / 기업 이름 : ['한국전력']\n",
            "\n",
            "업종 이름 : 무선통신서비스 / 기업 이름 : ['SK텔레콤', 'LG유플러스']\n",
            "\n",
            "업종 이름 : IT서비스 / 기업 이름 : ['삼성에스디에스', '포스코 ICT', 'NHN한국사이버결제', '현대오토에버']\n",
            "\n",
            "업종 이름 : 가정용기기와용품 / 기업 이름 : ['코웨이']\n",
            "\n",
            "업종 이름 : 은행 / 기업 이름 : ['기업은행', '신한지주', '하나금융지주', 'KB금융', '우리금융지주']\n",
            "\n",
            "업종 이름 : 카드 / 기업 이름 : ['삼성카드']\n",
            "\n",
            "업종 이름 : 다각화된통신서비스 / 기업 이름 : ['KT']\n",
            "\n",
            "업종 이름 : 통신장비 / 기업 이름 : ['케이엠더블유', 'RFHIC']\n",
            "\n",
            "업종 이름 : 생명보험 / 기업 이름 : ['삼성생명']\n",
            "\n",
            "업종 이름 : 섬유및의류 / 기업 이름 : ['코웰패션']\n",
            "\n",
            "업종 이름 : 담배 / 기업 이름 : ['KT&G']\n",
            "\n",
            "업종 이름 : 기계 / 기업 이름 : ['두산중공업', '에스에프에이', '두산밥캣']\n",
            "\n",
            "업종 이름 : 디스플레이패널 / 기업 이름 : ['LG디스플레이']\n",
            "\n",
            "업종 이름 : 양방향미디어와서비스 / 기업 이름 : ['NAVER', '카카오', '아프리카TV']\n",
            "\n",
            "업종 이름 : 방송과엔터테인먼트 / 기업 이름 : ['CJ ENM', 'JYP Ent.', '에스엠', '와이지엔터테인먼트', '스튜디오드래곤', '위지윅스튜디오', '하이브']\n",
            "\n",
            "업종 이름 : 가스유틸리티 / 기업 이름 : ['한국가스공사']\n",
            "\n",
            "업종 이름 : 디스플레이장비및부품 / 기업 이름 : ['SK머티리얼즈', '서울반도체', 'LX세미콘', '덕산네오룩스', '천보']\n",
            "\n",
            "업종 이름 : 게임엔터테인먼트 / 기업 이름 : ['엔씨소프트', '웹젠', '컴투스', '위메이드', '데브시스터즈', '골프존', '넵튠', '넷마블', '펄어비스', '카카오게임즈']\n",
            "\n",
            "업종 이름 : 창업투자 / 기업 이름 : ['우리기술투자']\n",
            "\n",
            "업종 이름 : 건강관리장비와용품 / 기업 이름 : ['오스템임플란트', '클래시스', '한국비엔씨', '엘앤씨바이오']\n",
            "\n",
            "업종 이름 : 소프트웨어 / 기업 이름 : ['안랩']\n",
            "\n",
            "업종 이름 : 전자제품 / 기업 이름 : ['LG전자']\n",
            "\n",
            "업종 이름 : 생명과학도구및서비스 / 기업 이름 : ['씨젠', '레고켐바이오', '엔케이맥스']\n",
            "\n",
            "업종 이름 : 건강관리업체및서비스 / 기업 이름 : ['녹십자랩셀']\n",
            "\n",
            "업종 이름 : 핸드셋 / 기업 이름 : ['나노스']\n",
            "\n",
            "업종 이름 : 교육서비스 / 기업 이름 : ['메가스터디교육']\n",
            "\n"
          ]
        }
      ]
    },
    {
      "cell_type": "markdown",
      "metadata": {
        "id": "GPrRyqO-kLDl"
      },
      "source": [
        "### DATA CLEANING \n",
        ": for (market accumulation) <-> (daily price accumulation) correlation "
      ]
    },
    {
      "cell_type": "code",
      "metadata": {
        "id": "QcJ5yE8_qPso"
      },
      "source": [
        "# making market dictionary by date\n",
        "market_rate_dict = {}\n",
        "\n",
        "for key, W, G, C, D in zip(market.loc[:,'date'], market.loc[:,'wti_rate'], market.loc[:,'gold_rate'], market.loc[:,'cooper_rate'], market.loc[:,'dollar_rate']):\n",
        "  market_rate_dict[key] = [W, G, C, D]\n",
        "\n",
        "# add market data\n",
        "price['wti_rate'] = price['date'].apply(lambda x: market_rate_dict[x][0])\n",
        "price['gold_rate'] = price['date'].apply(lambda x: market_rate_dict[x][1])\n",
        "price['cooper_rate'] = price['date'].apply(lambda x: market_rate_dict[x][2])\n",
        "price['dollar_rate'] = price['date'].apply(lambda x: market_rate_dict[x][3])\n",
        "\n",
        "# add ascent + volume data\n",
        "price['ascent_1'] = round((price['close'] - price['close'].rolling(window = 2).mean()) / price['close'].rolling(window = 2).mean() * 100, 2)\n",
        "price['volume_1'] = round((price['volume'] - price['volume'].rolling(window = 2).mean()) / price['volume'].rolling(window = 2).mean()* 100, 2)\n",
        "\n",
        "# add day of week + month data\n",
        "price['date'] = pd.to_datetime(price['date'])\n",
        "price['day_of_week'] = price['date'].dt.dayofweek\n",
        "price['month'] = price['date'].dt.month\n",
        "\n",
        "price_tmp = price.copy()"
      ],
      "execution_count": null,
      "outputs": []
    },
    {
      "cell_type": "code",
      "metadata": {
        "id": "Pa3whfETkOCI"
      },
      "source": [
        "price = price[['code', 'date', 'day_of_week', 'month', 'ascent_1', 'volume_1', 'wti_rate', 'gold_rate', 'cooper_rate', 'dollar_rate']]\n",
        "price = price[price['date'] != '2016-10-04']"
      ],
      "execution_count": null,
      "outputs": []
    },
    {
      "cell_type": "markdown",
      "metadata": {
        "id": "KMgjKOtljLvk"
      },
      "source": [
        "### CHECK CORRELATION BY ENTERPRISE"
      ]
    },
    {
      "cell_type": "code",
      "metadata": {
        "id": "-szsADfTPKwl"
      },
      "source": [
        "market_info_dic = {0: 'WTI', 1: 'gold', 2: 'cooper', 3: 'dollar', 4: 'None'}\n",
        "\n",
        "market_info_inverse = dict(zip(market_info_dic.values(), market_info_dic.keys()))\n",
        "\n",
        "market_acc_by_code_dic = {} # ex {1: [60, 120, 32429], 2: [123, 432423] .,. }"
      ],
      "execution_count": null,
      "outputs": []
    },
    {
      "cell_type": "code",
      "metadata": {
        "id": "_0YcLXjZjk4c",
        "colab": {
          "base_uri": "https://localhost:8080/"
        },
        "outputId": "0de1ab9f-7b4c-4fbf-9441-aa873a260f61"
      },
      "source": [
        "No_info = [] # info가 없는 기업\n",
        "\n",
        "for code in code_unique:\n",
        "  price_code = price[price['code'] == code]\n",
        "  try:\n",
        "    info_code = [info[info['code'] == code]['name'].tolist()[0], info[info['code'] == code]['sector'].tolist()[0]]\n",
        "  except:\n",
        "    print(f'WARNING NO INFO DATA CODE : {code}')\n",
        "    No_info.append(code)\n",
        "    info_code = None\n",
        "\n",
        "  price_code['ascent_acc'] = price_code['ascent_1'].cumsum()\n",
        "  price_code['wti_acc'] = price_code['wti_rate'].cumsum()\n",
        "  price_code['gold_acc'] = price_code['gold_rate'].cumsum()\n",
        "  price_code['cooper_acc'] = price_code['cooper_rate'].cumsum()\n",
        "  price_code['dollar_acc'] = price_code['dollar_rate'].cumsum()\n",
        "\n",
        "  acc = price_code[['ascent_acc', 'wti_acc', 'gold_acc', 'cooper_acc', 'dollar_acc']].corr()\n",
        "\n",
        "  # print(f' WTI : {round(acc.iloc[0,1], 2)} / gold : {round(acc.iloc[0,2], 2)} / cooper : {round(acc.iloc[0,3], 2)} / dollar : {round(acc.iloc[0,3], 2)}')\n",
        "\n",
        "  acc_list = [abs(round(acc.iloc[0,1], 2)), abs(round(acc.iloc[0,2], 2)), abs(round(acc.iloc[0,3], 2)), abs(round(acc.iloc[0,4], 2))]\n",
        "  acc_maxidx = acc_list.index(max(acc_list))\n",
        "\n",
        "  if acc_list[acc_maxidx] < 0.3: acc_maxidx = 4 # 상관계수가 0.3 미만이면 None으로\n",
        "\n",
        "  # 마켓별로 해당하는 기업 추가\n",
        "  if acc_maxidx in market_acc_by_code_dic:\n",
        "    market_acc_by_code_dic[acc_maxidx].append(code)\n",
        "  else:\n",
        "    market_acc_by_code_dic[acc_maxidx] = []\n",
        "    market_acc_by_code_dic[acc_maxidx].append(code)\n",
        "\n",
        "  if info_code == None:\n",
        "    print(market_info_dic[acc_maxidx],'\\n')"
      ],
      "execution_count": null,
      "outputs": [
        {
          "output_type": "stream",
          "name": "stdout",
          "text": [
            "WARNING NO INFO DATA CODE : 69500\n",
            "cooper \n",
            "\n",
            "WARNING NO INFO DATA CODE : 88980\n",
            "gold \n",
            "\n",
            "WARNING NO INFO DATA CODE : 259960\n",
            "None \n",
            "\n",
            "WARNING NO INFO DATA CODE : 289220\n",
            "dollar \n",
            "\n"
          ]
        }
      ]
    },
    {
      "cell_type": "markdown",
      "metadata": {
        "id": "fHQQDLf4l3lC"
      },
      "source": [
        "### MAKE FIANL DF"
      ]
    },
    {
      "cell_type": "code",
      "metadata": {
        "id": "7IEBk_AUiZSm"
      },
      "source": [
        "market = pd.read_csv('market_condition.csv')\n",
        "market_dict = {}\n",
        "\n",
        "for key, W, G, C, D in zip(market.loc[:,'date'], market.loc[:,'wti'], market.loc[:,'gold'], market.loc[:,'cooper'], market.loc[:,'dollar']):\n",
        "  market_dict[key] = [W, G, C, D, 0]"
      ],
      "execution_count": null,
      "outputs": []
    },
    {
      "cell_type": "code",
      "metadata": {
        "colab": {
          "base_uri": "https://localhost:8080/"
        },
        "id": "brGNcGEjyZoY",
        "outputId": "16b6ad26-78e7-4e75-e76d-057b534e0a12"
      },
      "source": [
        "final_root = price_tmp[['code', 'date', 'day_of_week', 'month', 'close', 'volume']]\n",
        "\n",
        "final_root['date'] = pd.to_datetime(final_root['date'])\n",
        "final_root['date'] = final_root['date'].dt.strftime(\"%Y-%m-%d\")\n",
        "final_root.info()"
      ],
      "execution_count": null,
      "outputs": [
        {
          "output_type": "stream",
          "name": "stdout",
          "text": [
            "<class 'pandas.core.frame.DataFrame'>\n",
            "RangeIndex: 229782 entries, 0 to 229781\n",
            "Data columns (total 6 columns):\n",
            " #   Column       Non-Null Count   Dtype \n",
            "---  ------       --------------   ----- \n",
            " 0   code         229782 non-null  int64 \n",
            " 1   date         229782 non-null  object\n",
            " 2   day_of_week  229782 non-null  int64 \n",
            " 3   month        229782 non-null  int64 \n",
            " 4   close        229782 non-null  int64 \n",
            " 5   volume       229782 non-null  int64 \n",
            "dtypes: int64(5), object(1)\n",
            "memory usage: 10.5+ MB\n"
          ]
        }
      ]
    },
    {
      "cell_type": "code",
      "metadata": {
        "colab": {
          "base_uri": "https://localhost:8080/",
          "height": 201
        },
        "id": "UEDvJaqY_e17",
        "outputId": "ef34c8b7-424e-4bbf-eb1c-f02b739b48ab"
      },
      "source": [
        "kospi_dict = {}\n",
        "\n",
        "for key, value in zip(kospi.loc[:,'date'], kospi.loc[:,'kospi']):\n",
        "  kospi_dict[key] = value\n",
        "\n",
        "# 날짜별 코스피지수 넣기\n",
        "final_root['kospi'] = final_root['date'].apply(lambda x: kospi_dict[x])\n",
        "\n",
        "final_root.head()"
      ],
      "execution_count": null,
      "outputs": [
        {
          "output_type": "execute_result",
          "data": {
            "text/html": [
              "<div>\n",
              "<style scoped>\n",
              "    .dataframe tbody tr th:only-of-type {\n",
              "        vertical-align: middle;\n",
              "    }\n",
              "\n",
              "    .dataframe tbody tr th {\n",
              "        vertical-align: top;\n",
              "    }\n",
              "\n",
              "    .dataframe thead th {\n",
              "        text-align: right;\n",
              "    }\n",
              "</style>\n",
              "<table border=\"1\" class=\"dataframe\">\n",
              "  <thead>\n",
              "    <tr style=\"text-align: right;\">\n",
              "      <th></th>\n",
              "      <th>code</th>\n",
              "      <th>date</th>\n",
              "      <th>day_of_week</th>\n",
              "      <th>month</th>\n",
              "      <th>close</th>\n",
              "      <th>volume</th>\n",
              "      <th>kospi</th>\n",
              "    </tr>\n",
              "  </thead>\n",
              "  <tbody>\n",
              "    <tr>\n",
              "      <th>0</th>\n",
              "      <td>60</td>\n",
              "      <td>2016-10-04</td>\n",
              "      <td>1</td>\n",
              "      <td>10</td>\n",
              "      <td>15550</td>\n",
              "      <td>198459</td>\n",
              "      <td>2054.86</td>\n",
              "    </tr>\n",
              "    <tr>\n",
              "      <th>1</th>\n",
              "      <td>60</td>\n",
              "      <td>2016-10-05</td>\n",
              "      <td>2</td>\n",
              "      <td>10</td>\n",
              "      <td>15500</td>\n",
              "      <td>175702</td>\n",
              "      <td>2053.00</td>\n",
              "    </tr>\n",
              "    <tr>\n",
              "      <th>2</th>\n",
              "      <td>60</td>\n",
              "      <td>2016-10-06</td>\n",
              "      <td>3</td>\n",
              "      <td>10</td>\n",
              "      <td>15650</td>\n",
              "      <td>195861</td>\n",
              "      <td>2065.30</td>\n",
              "    </tr>\n",
              "    <tr>\n",
              "      <th>3</th>\n",
              "      <td>60</td>\n",
              "      <td>2016-10-07</td>\n",
              "      <td>4</td>\n",
              "      <td>10</td>\n",
              "      <td>15500</td>\n",
              "      <td>122587</td>\n",
              "      <td>2053.80</td>\n",
              "    </tr>\n",
              "    <tr>\n",
              "      <th>4</th>\n",
              "      <td>60</td>\n",
              "      <td>2016-10-10</td>\n",
              "      <td>0</td>\n",
              "      <td>10</td>\n",
              "      <td>15450</td>\n",
              "      <td>39849</td>\n",
              "      <td>2056.82</td>\n",
              "    </tr>\n",
              "  </tbody>\n",
              "</table>\n",
              "</div>"
            ],
            "text/plain": [
              "   code        date  day_of_week  month  close  volume    kospi\n",
              "0    60  2016-10-04            1     10  15550  198459  2054.86\n",
              "1    60  2016-10-05            2     10  15500  175702  2053.00\n",
              "2    60  2016-10-06            3     10  15650  195861  2065.30\n",
              "3    60  2016-10-07            4     10  15500  122587  2053.80\n",
              "4    60  2016-10-10            0     10  15450   39849  2056.82"
            ]
          },
          "metadata": {},
          "execution_count": 28
        }
      ]
    },
    {
      "cell_type": "code",
      "metadata": {
        "id": "m1NMyt1iHhaM"
      },
      "source": [
        "final_df = pd.DataFrame()\n",
        "\n",
        "for K, V in sorted(market_acc_by_code_dic.items()):\n",
        "  codes = sorted(list(set(V)))\n",
        "  cnt = 0\n",
        "  for code in codes:\n",
        "\n",
        "    tmp_df = final_root[final_root['code'] == code]\n",
        "    tmp_df['market_name'] = np.array([K]*len(tmp_df), dtype='int64')\n",
        "    tmp_df['market'] = final_root['date'].apply(lambda x: market_dict[x][K])\n",
        "    \n",
        "    final_df = pd.concat([final_df, tmp_df])"
      ],
      "execution_count": null,
      "outputs": []
    },
    {
      "cell_type": "code",
      "metadata": {
        "colab": {
          "base_uri": "https://localhost:8080/"
        },
        "id": "e7l91Zme_yUD",
        "outputId": "d2dedf74-6a08-49b1-b8cd-ca3ce2bf0d8d"
      },
      "source": [
        "final_df.info()"
      ],
      "execution_count": null,
      "outputs": [
        {
          "output_type": "stream",
          "name": "stdout",
          "text": [
            "<class 'pandas.core.frame.DataFrame'>\n",
            "Int64Index: 229782 entries, 1243 to 225442\n",
            "Data columns (total 9 columns):\n",
            " #   Column       Non-Null Count   Dtype  \n",
            "---  ------       --------------   -----  \n",
            " 0   code         229782 non-null  int64  \n",
            " 1   date         229782 non-null  object \n",
            " 2   day_of_week  229782 non-null  int64  \n",
            " 3   month        229782 non-null  int64  \n",
            " 4   close        229782 non-null  int64  \n",
            " 5   volume       229782 non-null  int64  \n",
            " 6   kospi        229782 non-null  float64\n",
            " 7   market_name  229782 non-null  int64  \n",
            " 8   market       229782 non-null  float64\n",
            "dtypes: float64(2), int64(6), object(1)\n",
            "memory usage: 17.5+ MB\n"
          ]
        }
      ]
    },
    {
      "cell_type": "code",
      "metadata": {
        "colab": {
          "base_uri": "https://localhost:8080/",
          "height": 201
        },
        "id": "OJ1wkfEq_txf",
        "outputId": "b0333963-f94b-45fb-9c26-32eb9be838f6"
      },
      "source": [
        "final_df.reset_index(drop=True, inplace=True)\n",
        "final_df.tail()"
      ],
      "execution_count": null,
      "outputs": [
        {
          "output_type": "execute_result",
          "data": {
            "text/html": [
              "<div>\n",
              "<style scoped>\n",
              "    .dataframe tbody tr th:only-of-type {\n",
              "        vertical-align: middle;\n",
              "    }\n",
              "\n",
              "    .dataframe tbody tr th {\n",
              "        vertical-align: top;\n",
              "    }\n",
              "\n",
              "    .dataframe thead th {\n",
              "        text-align: right;\n",
              "    }\n",
              "</style>\n",
              "<table border=\"1\" class=\"dataframe\">\n",
              "  <thead>\n",
              "    <tr style=\"text-align: right;\">\n",
              "      <th></th>\n",
              "      <th>code</th>\n",
              "      <th>date</th>\n",
              "      <th>day_of_week</th>\n",
              "      <th>month</th>\n",
              "      <th>close</th>\n",
              "      <th>volume</th>\n",
              "      <th>kospi</th>\n",
              "      <th>market_name</th>\n",
              "      <th>market</th>\n",
              "    </tr>\n",
              "  </thead>\n",
              "  <tbody>\n",
              "    <tr>\n",
              "      <th>229777</th>\n",
              "      <td>298380</td>\n",
              "      <td>2021-10-18</td>\n",
              "      <td>0</td>\n",
              "      <td>10</td>\n",
              "      <td>18950</td>\n",
              "      <td>96487</td>\n",
              "      <td>3006.68</td>\n",
              "      <td>4</td>\n",
              "      <td>0.0</td>\n",
              "    </tr>\n",
              "    <tr>\n",
              "      <th>229778</th>\n",
              "      <td>298380</td>\n",
              "      <td>2021-10-19</td>\n",
              "      <td>1</td>\n",
              "      <td>10</td>\n",
              "      <td>20500</td>\n",
              "      <td>592363</td>\n",
              "      <td>3029.04</td>\n",
              "      <td>4</td>\n",
              "      <td>0.0</td>\n",
              "    </tr>\n",
              "    <tr>\n",
              "      <th>229779</th>\n",
              "      <td>298380</td>\n",
              "      <td>2021-10-20</td>\n",
              "      <td>2</td>\n",
              "      <td>10</td>\n",
              "      <td>21150</td>\n",
              "      <td>786760</td>\n",
              "      <td>3013.13</td>\n",
              "      <td>4</td>\n",
              "      <td>0.0</td>\n",
              "    </tr>\n",
              "    <tr>\n",
              "      <th>229780</th>\n",
              "      <td>298380</td>\n",
              "      <td>2021-10-21</td>\n",
              "      <td>3</td>\n",
              "      <td>10</td>\n",
              "      <td>21350</td>\n",
              "      <td>367027</td>\n",
              "      <td>3007.33</td>\n",
              "      <td>4</td>\n",
              "      <td>0.0</td>\n",
              "    </tr>\n",
              "    <tr>\n",
              "      <th>229781</th>\n",
              "      <td>298380</td>\n",
              "      <td>2021-10-22</td>\n",
              "      <td>4</td>\n",
              "      <td>10</td>\n",
              "      <td>21400</td>\n",
              "      <td>341654</td>\n",
              "      <td>3006.16</td>\n",
              "      <td>4</td>\n",
              "      <td>0.0</td>\n",
              "    </tr>\n",
              "  </tbody>\n",
              "</table>\n",
              "</div>"
            ],
            "text/plain": [
              "          code        date  day_of_week  ...    kospi  market_name  market\n",
              "229777  298380  2021-10-18            0  ...  3006.68            4     0.0\n",
              "229778  298380  2021-10-19            1  ...  3029.04            4     0.0\n",
              "229779  298380  2021-10-20            2  ...  3013.13            4     0.0\n",
              "229780  298380  2021-10-21            3  ...  3007.33            4     0.0\n",
              "229781  298380  2021-10-22            4  ...  3006.16            4     0.0\n",
              "\n",
              "[5 rows x 9 columns]"
            ]
          },
          "metadata": {},
          "execution_count": 36
        }
      ]
    },
    {
      "cell_type": "code",
      "metadata": {
        "colab": {
          "base_uri": "https://localhost:8080/",
          "height": 201
        },
        "id": "SpV51vG2I94y",
        "outputId": "6d5ca11c-1f03-49b4-d1e6-7595007d5617"
      },
      "source": [
        "# df_sorted_by_date_as = final_df.set_index(['code', 'date'])\n",
        "df_sorted_by_date = final_df.sort_values(by=['code', 'date'], ascending = False)\n",
        "\n",
        "df_sorted_by_date.head()"
      ],
      "execution_count": null,
      "outputs": [
        {
          "output_type": "execute_result",
          "data": {
            "text/html": [
              "<div>\n",
              "<style scoped>\n",
              "    .dataframe tbody tr th:only-of-type {\n",
              "        vertical-align: middle;\n",
              "    }\n",
              "\n",
              "    .dataframe tbody tr th {\n",
              "        vertical-align: top;\n",
              "    }\n",
              "\n",
              "    .dataframe thead th {\n",
              "        text-align: right;\n",
              "    }\n",
              "</style>\n",
              "<table border=\"1\" class=\"dataframe\">\n",
              "  <thead>\n",
              "    <tr style=\"text-align: right;\">\n",
              "      <th></th>\n",
              "      <th>code</th>\n",
              "      <th>date</th>\n",
              "      <th>day_of_week</th>\n",
              "      <th>month</th>\n",
              "      <th>close</th>\n",
              "      <th>volume</th>\n",
              "      <th>kospi</th>\n",
              "      <th>market_name</th>\n",
              "      <th>market</th>\n",
              "    </tr>\n",
              "  </thead>\n",
              "  <tbody>\n",
              "    <tr>\n",
              "      <th>229781</th>\n",
              "      <td>357780</td>\n",
              "      <td>2021-10-22</td>\n",
              "      <td>4</td>\n",
              "      <td>10</td>\n",
              "      <td>255000</td>\n",
              "      <td>18191</td>\n",
              "      <td>3006.16</td>\n",
              "      <td>2</td>\n",
              "      <td>9992.0</td>\n",
              "    </tr>\n",
              "    <tr>\n",
              "      <th>229780</th>\n",
              "      <td>357780</td>\n",
              "      <td>2021-10-21</td>\n",
              "      <td>3</td>\n",
              "      <td>10</td>\n",
              "      <td>257100</td>\n",
              "      <td>30135</td>\n",
              "      <td>3007.33</td>\n",
              "      <td>2</td>\n",
              "      <td>10051.0</td>\n",
              "    </tr>\n",
              "    <tr>\n",
              "      <th>229779</th>\n",
              "      <td>357780</td>\n",
              "      <td>2021-10-20</td>\n",
              "      <td>2</td>\n",
              "      <td>10</td>\n",
              "      <td>260700</td>\n",
              "      <td>22531</td>\n",
              "      <td>3013.13</td>\n",
              "      <td>2</td>\n",
              "      <td>10161.0</td>\n",
              "    </tr>\n",
              "    <tr>\n",
              "      <th>229778</th>\n",
              "      <td>357780</td>\n",
              "      <td>2021-10-19</td>\n",
              "      <td>1</td>\n",
              "      <td>10</td>\n",
              "      <td>262200</td>\n",
              "      <td>26876</td>\n",
              "      <td>3029.04</td>\n",
              "      <td>2</td>\n",
              "      <td>10652.0</td>\n",
              "    </tr>\n",
              "    <tr>\n",
              "      <th>229777</th>\n",
              "      <td>357780</td>\n",
              "      <td>2021-10-18</td>\n",
              "      <td>0</td>\n",
              "      <td>10</td>\n",
              "      <td>262700</td>\n",
              "      <td>31404</td>\n",
              "      <td>3006.68</td>\n",
              "      <td>2</td>\n",
              "      <td>10500.0</td>\n",
              "    </tr>\n",
              "  </tbody>\n",
              "</table>\n",
              "</div>"
            ],
            "text/plain": [
              "          code        date  day_of_week  ...    kospi  market_name   market\n",
              "229781  357780  2021-10-22            4  ...  3006.16            2   9992.0\n",
              "229780  357780  2021-10-21            3  ...  3007.33            2  10051.0\n",
              "229779  357780  2021-10-20            2  ...  3013.13            2  10161.0\n",
              "229778  357780  2021-10-19            1  ...  3029.04            2  10652.0\n",
              "229777  357780  2021-10-18            0  ...  3006.68            2  10500.0\n",
              "\n",
              "[5 rows x 9 columns]"
            ]
          },
          "metadata": {},
          "execution_count": 41
        }
      ]
    },
    {
      "cell_type": "code",
      "metadata": {
        "id": "9YExXbS4ekzT"
      },
      "source": [
        "# ASCENDING 구하기\n",
        "\n",
        "ascend_df = pd.DataFrame()\n",
        "days = [2, 21, 66]\n",
        "\n",
        "for code in code_unique:\n",
        "  tmp_df = df_sorted_by_date[df_sorted_by_date['code'] == code]\n",
        "  for day in days:\n",
        "    # add ascent\n",
        "    tmp_df['ascent_{}'.format(day-1)] = round((tmp_df['close'] - tmp_df['close'].rolling(window = day).mean()) / tmp_df['close'].rolling(window = day).mean() * 100, 2)\n",
        "  ascend_df = pd.concat([ascend_df, tmp_df[65:]])"
      ],
      "execution_count": null,
      "outputs": []
    },
    {
      "cell_type": "code",
      "metadata": {
        "colab": {
          "base_uri": "https://localhost:8080/",
          "height": 303
        },
        "id": "nh9xfQLaIS9B",
        "outputId": "0a701d98-27f2-4601-dd84-35fec4955174"
      },
      "source": [
        "# VOLUME, KOSPI, MARKET\n",
        "\n",
        "other_df = pd.DataFrame()\n",
        "days = [2, 21, 66]\n",
        "\n",
        "for code in code_unique:\n",
        "  tmp_df = final_df[final_df['code'] == code]\n",
        "  for day in days:\n",
        "    # add volume\n",
        "    tmp_df['volume_{}'.format(day-1)] = round((tmp_df['volume'] - tmp_df['volume'].rolling(window = day).mean()) / tmp_df['volume'].rolling(window = day).mean()* 100, 2)\n",
        "\n",
        "    # add kospi\n",
        "    tmp_df['kospi_{}'.format(day-1)] = round((tmp_df['kospi'] - tmp_df['kospi'].rolling(window = day).mean()) / tmp_df['kospi'].rolling(window = day).mean()* 100, 2)\n",
        "\n",
        "    # add market\n",
        "    tmp_df['market_{}'.format(day-1)] = round((tmp_df['market'] - tmp_df['market'].rolling(window = day).mean()) / tmp_df['market'].rolling(window = day).mean()* 100, 2)\n",
        "  \n",
        "  other_df = pd.concat([other_df, tmp_df[65:]])"
      ],
      "execution_count": null,
      "outputs": [
        {
          "output_type": "execute_result",
          "data": {
            "text/html": [
              "<div>\n",
              "<style scoped>\n",
              "    .dataframe tbody tr th:only-of-type {\n",
              "        vertical-align: middle;\n",
              "    }\n",
              "\n",
              "    .dataframe tbody tr th {\n",
              "        vertical-align: top;\n",
              "    }\n",
              "\n",
              "    .dataframe thead th {\n",
              "        text-align: right;\n",
              "    }\n",
              "</style>\n",
              "<table border=\"1\" class=\"dataframe\">\n",
              "  <thead>\n",
              "    <tr style=\"text-align: right;\">\n",
              "      <th></th>\n",
              "      <th>code</th>\n",
              "      <th>date</th>\n",
              "      <th>day_of_week</th>\n",
              "      <th>month</th>\n",
              "      <th>close</th>\n",
              "      <th>volume</th>\n",
              "      <th>kospi</th>\n",
              "      <th>market_name</th>\n",
              "      <th>market</th>\n",
              "      <th>volume_1</th>\n",
              "      <th>kospi_1</th>\n",
              "      <th>market_1</th>\n",
              "      <th>volume_20</th>\n",
              "      <th>kospi_20</th>\n",
              "      <th>market_20</th>\n",
              "      <th>volume_65</th>\n",
              "      <th>kospi_65</th>\n",
              "      <th>market_65</th>\n",
              "    </tr>\n",
              "  </thead>\n",
              "  <tbody>\n",
              "    <tr>\n",
              "      <th>229777</th>\n",
              "      <td>357780</td>\n",
              "      <td>2021-10-18</td>\n",
              "      <td>0</td>\n",
              "      <td>10</td>\n",
              "      <td>262700</td>\n",
              "      <td>31404</td>\n",
              "      <td>3006.68</td>\n",
              "      <td>2</td>\n",
              "      <td>10500.0</td>\n",
              "      <td>-34.36</td>\n",
              "      <td>-0.14</td>\n",
              "      <td>-0.26</td>\n",
              "      <td>-36.00</td>\n",
              "      <td>-1.33</td>\n",
              "      <td>10.95</td>\n",
              "      <td>-35.64</td>\n",
              "      <td>-4.64</td>\n",
              "      <td>11.54</td>\n",
              "    </tr>\n",
              "    <tr>\n",
              "      <th>229778</th>\n",
              "      <td>357780</td>\n",
              "      <td>2021-10-19</td>\n",
              "      <td>1</td>\n",
              "      <td>10</td>\n",
              "      <td>262200</td>\n",
              "      <td>26876</td>\n",
              "      <td>3029.04</td>\n",
              "      <td>2</td>\n",
              "      <td>10652.0</td>\n",
              "      <td>-7.77</td>\n",
              "      <td>0.37</td>\n",
              "      <td>0.72</td>\n",
              "      <td>-43.63</td>\n",
              "      <td>-0.44</td>\n",
              "      <td>11.98</td>\n",
              "      <td>-44.57</td>\n",
              "      <td>-3.85</td>\n",
              "      <td>12.94</td>\n",
              "    </tr>\n",
              "    <tr>\n",
              "      <th>229779</th>\n",
              "      <td>357780</td>\n",
              "      <td>2021-10-20</td>\n",
              "      <td>2</td>\n",
              "      <td>10</td>\n",
              "      <td>260700</td>\n",
              "      <td>22531</td>\n",
              "      <td>3013.13</td>\n",
              "      <td>2</td>\n",
              "      <td>10161.0</td>\n",
              "      <td>-8.79</td>\n",
              "      <td>-0.26</td>\n",
              "      <td>-2.36</td>\n",
              "      <td>-51.74</td>\n",
              "      <td>-0.75</td>\n",
              "      <td>6.41</td>\n",
              "      <td>-53.55</td>\n",
              "      <td>-4.24</td>\n",
              "      <td>7.59</td>\n",
              "    </tr>\n",
              "    <tr>\n",
              "      <th>229780</th>\n",
              "      <td>357780</td>\n",
              "      <td>2021-10-21</td>\n",
              "      <td>3</td>\n",
              "      <td>10</td>\n",
              "      <td>257100</td>\n",
              "      <td>30135</td>\n",
              "      <td>3007.33</td>\n",
              "      <td>2</td>\n",
              "      <td>10051.0</td>\n",
              "      <td>14.44</td>\n",
              "      <td>-0.10</td>\n",
              "      <td>-0.54</td>\n",
              "      <td>-29.49</td>\n",
              "      <td>-0.72</td>\n",
              "      <td>4.97</td>\n",
              "      <td>-36.66</td>\n",
              "      <td>-4.31</td>\n",
              "      <td>6.30</td>\n",
              "    </tr>\n",
              "    <tr>\n",
              "      <th>229781</th>\n",
              "      <td>357780</td>\n",
              "      <td>2021-10-22</td>\n",
              "      <td>4</td>\n",
              "      <td>10</td>\n",
              "      <td>255000</td>\n",
              "      <td>18191</td>\n",
              "      <td>3006.16</td>\n",
              "      <td>2</td>\n",
              "      <td>9992.0</td>\n",
              "      <td>-24.72</td>\n",
              "      <td>-0.02</td>\n",
              "      <td>-0.29</td>\n",
              "      <td>-55.41</td>\n",
              "      <td>-0.56</td>\n",
              "      <td>4.04</td>\n",
              "      <td>-61.48</td>\n",
              "      <td>-4.22</td>\n",
              "      <td>5.56</td>\n",
              "    </tr>\n",
              "  </tbody>\n",
              "</table>\n",
              "</div>"
            ],
            "text/plain": [
              "          code        date  day_of_week  ...  volume_65  kospi_65  market_65\n",
              "229777  357780  2021-10-18            0  ...     -35.64     -4.64      11.54\n",
              "229778  357780  2021-10-19            1  ...     -44.57     -3.85      12.94\n",
              "229779  357780  2021-10-20            2  ...     -53.55     -4.24       7.59\n",
              "229780  357780  2021-10-21            3  ...     -36.66     -4.31       6.30\n",
              "229781  357780  2021-10-22            4  ...     -61.48     -4.22       5.56\n",
              "\n",
              "[5 rows x 18 columns]"
            ]
          },
          "metadata": {},
          "execution_count": 58
        }
      ]
    },
    {
      "cell_type": "code",
      "metadata": {
        "id": "1cPs9n-RXGqF"
      },
      "source": [
        "ascend_df = ascend_df[['code', 'date', 'ascent_1','ascent_20', 'ascent_65']]\n",
        "other_df.drop(['close', 'kospi','volume', 'market'], axis = 1, inplace = True)"
      ],
      "execution_count": null,
      "outputs": []
    },
    {
      "cell_type": "code",
      "metadata": {
        "colab": {
          "base_uri": "https://localhost:8080/",
          "height": 303
        },
        "id": "5XtX6EEJV3UM",
        "outputId": "8717a403-716a-4370-f76e-f80ab8a14d97"
      },
      "source": [
        "final_tmp = pd.merge(other_df, ascend_df, on=['code', 'date'])\n",
        "\n",
        "final_tmp.head()"
      ],
      "execution_count": null,
      "outputs": [
        {
          "output_type": "execute_result",
          "data": {
            "text/html": [
              "<div>\n",
              "<style scoped>\n",
              "    .dataframe tbody tr th:only-of-type {\n",
              "        vertical-align: middle;\n",
              "    }\n",
              "\n",
              "    .dataframe tbody tr th {\n",
              "        vertical-align: top;\n",
              "    }\n",
              "\n",
              "    .dataframe thead th {\n",
              "        text-align: right;\n",
              "    }\n",
              "</style>\n",
              "<table border=\"1\" class=\"dataframe\">\n",
              "  <thead>\n",
              "    <tr style=\"text-align: right;\">\n",
              "      <th></th>\n",
              "      <th>code</th>\n",
              "      <th>date</th>\n",
              "      <th>day_of_week</th>\n",
              "      <th>month</th>\n",
              "      <th>market_name</th>\n",
              "      <th>volume_1</th>\n",
              "      <th>kospi_1</th>\n",
              "      <th>market_1</th>\n",
              "      <th>volume_20</th>\n",
              "      <th>kospi_20</th>\n",
              "      <th>market_20</th>\n",
              "      <th>volume_65</th>\n",
              "      <th>kospi_65</th>\n",
              "      <th>market_65</th>\n",
              "      <th>ascent_1</th>\n",
              "      <th>ascent_20</th>\n",
              "      <th>ascent_65</th>\n",
              "    </tr>\n",
              "  </thead>\n",
              "  <tbody>\n",
              "    <tr>\n",
              "      <th>0</th>\n",
              "      <td>60</td>\n",
              "      <td>2017-01-04</td>\n",
              "      <td>2</td>\n",
              "      <td>1</td>\n",
              "      <td>3</td>\n",
              "      <td>3.67</td>\n",
              "      <td>0.04</td>\n",
              "      <td>-0.17</td>\n",
              "      <td>-14.10</td>\n",
              "      <td>0.72</td>\n",
              "      <td>1.11</td>\n",
              "      <td>-15.69</td>\n",
              "      <td>1.60</td>\n",
              "      <td>3.51</td>\n",
              "      <td>0.16</td>\n",
              "      <td>1.08</td>\n",
              "      <td>-0.85</td>\n",
              "    </tr>\n",
              "    <tr>\n",
              "      <th>1</th>\n",
              "      <td>60</td>\n",
              "      <td>2017-01-05</td>\n",
              "      <td>3</td>\n",
              "      <td>1</td>\n",
              "      <td>3</td>\n",
              "      <td>-10.08</td>\n",
              "      <td>-0.09</td>\n",
              "      <td>-0.54</td>\n",
              "      <td>-29.78</td>\n",
              "      <td>0.41</td>\n",
              "      <td>-0.06</td>\n",
              "      <td>-30.33</td>\n",
              "      <td>1.42</td>\n",
              "      <td>2.28</td>\n",
              "      <td>-0.33</td>\n",
              "      <td>0.86</td>\n",
              "      <td>-1.26</td>\n",
              "    </tr>\n",
              "    <tr>\n",
              "      <th>2</th>\n",
              "      <td>60</td>\n",
              "      <td>2017-01-06</td>\n",
              "      <td>4</td>\n",
              "      <td>1</td>\n",
              "      <td>3</td>\n",
              "      <td>13.10</td>\n",
              "      <td>0.18</td>\n",
              "      <td>0.27</td>\n",
              "      <td>-5.80</td>\n",
              "      <td>0.63</td>\n",
              "      <td>0.35</td>\n",
              "      <td>-8.79</td>\n",
              "      <td>1.78</td>\n",
              "      <td>2.73</td>\n",
              "      <td>0.65</td>\n",
              "      <td>1.54</td>\n",
              "      <td>-0.70</td>\n",
              "    </tr>\n",
              "    <tr>\n",
              "      <th>3</th>\n",
              "      <td>60</td>\n",
              "      <td>2017-01-09</td>\n",
              "      <td>0</td>\n",
              "      <td>1</td>\n",
              "      <td>3</td>\n",
              "      <td>-15.89</td>\n",
              "      <td>-0.01</td>\n",
              "      <td>0.33</td>\n",
              "      <td>-30.74</td>\n",
              "      <td>0.57</td>\n",
              "      <td>0.85</td>\n",
              "      <td>-33.00</td>\n",
              "      <td>1.78</td>\n",
              "      <td>3.30</td>\n",
              "      <td>0.33</td>\n",
              "      <td>0.24</td>\n",
              "      <td>-2.12</td>\n",
              "    </tr>\n",
              "    <tr>\n",
              "      <th>4</th>\n",
              "      <td>60</td>\n",
              "      <td>2017-01-10</td>\n",
              "      <td>1</td>\n",
              "      <td>1</td>\n",
              "      <td>3</td>\n",
              "      <td>18.73</td>\n",
              "      <td>-0.09</td>\n",
              "      <td>-0.17</td>\n",
              "      <td>0.96</td>\n",
              "      <td>0.34</td>\n",
              "      <td>0.40</td>\n",
              "      <td>-2.21</td>\n",
              "      <td>1.60</td>\n",
              "      <td>2.84</td>\n",
              "      <td>0.33</td>\n",
              "      <td>-0.46</td>\n",
              "      <td>-2.88</td>\n",
              "    </tr>\n",
              "  </tbody>\n",
              "</table>\n",
              "</div>"
            ],
            "text/plain": [
              "   code        date  day_of_week  ...  ascent_1  ascent_20  ascent_65\n",
              "0    60  2017-01-04            2  ...      0.16       1.08      -0.85\n",
              "1    60  2017-01-05            3  ...     -0.33       0.86      -1.26\n",
              "2    60  2017-01-06            4  ...      0.65       1.54      -0.70\n",
              "3    60  2017-01-09            0  ...      0.33       0.24      -2.12\n",
              "4    60  2017-01-10            1  ...      0.33      -0.46      -2.88\n",
              "\n",
              "[5 rows x 17 columns]"
            ]
          },
          "metadata": {},
          "execution_count": 67
        }
      ]
    },
    {
      "cell_type": "code",
      "metadata": {
        "colab": {
          "base_uri": "https://localhost:8080/",
          "height": 303
        },
        "id": "y8TTmu4Lh-1f",
        "outputId": "7fbc060d-3e80-457c-9fb9-bb80f8e9f7c7"
      },
      "source": [
        "final_df = final_tmp[['code', 'date', 'day_of_week', 'month',\n",
        "       'market_name', 'ascent_1', 'volume_1', 'kospi_1', 'market_1',\n",
        "       'ascent_20', 'volume_20', 'kospi_20', 'market_20', 'ascent_65',\n",
        "       'volume_65', 'kospi_65', 'market_65']]\n",
        "\n",
        "final_df.head()"
      ],
      "execution_count": null,
      "outputs": [
        {
          "output_type": "execute_result",
          "data": {
            "text/html": [
              "<div>\n",
              "<style scoped>\n",
              "    .dataframe tbody tr th:only-of-type {\n",
              "        vertical-align: middle;\n",
              "    }\n",
              "\n",
              "    .dataframe tbody tr th {\n",
              "        vertical-align: top;\n",
              "    }\n",
              "\n",
              "    .dataframe thead th {\n",
              "        text-align: right;\n",
              "    }\n",
              "</style>\n",
              "<table border=\"1\" class=\"dataframe\">\n",
              "  <thead>\n",
              "    <tr style=\"text-align: right;\">\n",
              "      <th></th>\n",
              "      <th>code</th>\n",
              "      <th>date</th>\n",
              "      <th>day_of_week</th>\n",
              "      <th>month</th>\n",
              "      <th>market_name</th>\n",
              "      <th>ascent_1</th>\n",
              "      <th>volume_1</th>\n",
              "      <th>kospi_1</th>\n",
              "      <th>market_1</th>\n",
              "      <th>ascent_20</th>\n",
              "      <th>volume_20</th>\n",
              "      <th>kospi_20</th>\n",
              "      <th>market_20</th>\n",
              "      <th>ascent_65</th>\n",
              "      <th>volume_65</th>\n",
              "      <th>kospi_65</th>\n",
              "      <th>market_65</th>\n",
              "    </tr>\n",
              "  </thead>\n",
              "  <tbody>\n",
              "    <tr>\n",
              "      <th>0</th>\n",
              "      <td>60</td>\n",
              "      <td>2017-01-04</td>\n",
              "      <td>2</td>\n",
              "      <td>1</td>\n",
              "      <td>3</td>\n",
              "      <td>0.16</td>\n",
              "      <td>3.67</td>\n",
              "      <td>0.04</td>\n",
              "      <td>-0.17</td>\n",
              "      <td>1.08</td>\n",
              "      <td>-14.10</td>\n",
              "      <td>0.72</td>\n",
              "      <td>1.11</td>\n",
              "      <td>-0.85</td>\n",
              "      <td>-15.69</td>\n",
              "      <td>1.60</td>\n",
              "      <td>3.51</td>\n",
              "    </tr>\n",
              "    <tr>\n",
              "      <th>1</th>\n",
              "      <td>60</td>\n",
              "      <td>2017-01-05</td>\n",
              "      <td>3</td>\n",
              "      <td>1</td>\n",
              "      <td>3</td>\n",
              "      <td>-0.33</td>\n",
              "      <td>-10.08</td>\n",
              "      <td>-0.09</td>\n",
              "      <td>-0.54</td>\n",
              "      <td>0.86</td>\n",
              "      <td>-29.78</td>\n",
              "      <td>0.41</td>\n",
              "      <td>-0.06</td>\n",
              "      <td>-1.26</td>\n",
              "      <td>-30.33</td>\n",
              "      <td>1.42</td>\n",
              "      <td>2.28</td>\n",
              "    </tr>\n",
              "    <tr>\n",
              "      <th>2</th>\n",
              "      <td>60</td>\n",
              "      <td>2017-01-06</td>\n",
              "      <td>4</td>\n",
              "      <td>1</td>\n",
              "      <td>3</td>\n",
              "      <td>0.65</td>\n",
              "      <td>13.10</td>\n",
              "      <td>0.18</td>\n",
              "      <td>0.27</td>\n",
              "      <td>1.54</td>\n",
              "      <td>-5.80</td>\n",
              "      <td>0.63</td>\n",
              "      <td>0.35</td>\n",
              "      <td>-0.70</td>\n",
              "      <td>-8.79</td>\n",
              "      <td>1.78</td>\n",
              "      <td>2.73</td>\n",
              "    </tr>\n",
              "    <tr>\n",
              "      <th>3</th>\n",
              "      <td>60</td>\n",
              "      <td>2017-01-09</td>\n",
              "      <td>0</td>\n",
              "      <td>1</td>\n",
              "      <td>3</td>\n",
              "      <td>0.33</td>\n",
              "      <td>-15.89</td>\n",
              "      <td>-0.01</td>\n",
              "      <td>0.33</td>\n",
              "      <td>0.24</td>\n",
              "      <td>-30.74</td>\n",
              "      <td>0.57</td>\n",
              "      <td>0.85</td>\n",
              "      <td>-2.12</td>\n",
              "      <td>-33.00</td>\n",
              "      <td>1.78</td>\n",
              "      <td>3.30</td>\n",
              "    </tr>\n",
              "    <tr>\n",
              "      <th>4</th>\n",
              "      <td>60</td>\n",
              "      <td>2017-01-10</td>\n",
              "      <td>1</td>\n",
              "      <td>1</td>\n",
              "      <td>3</td>\n",
              "      <td>0.33</td>\n",
              "      <td>18.73</td>\n",
              "      <td>-0.09</td>\n",
              "      <td>-0.17</td>\n",
              "      <td>-0.46</td>\n",
              "      <td>0.96</td>\n",
              "      <td>0.34</td>\n",
              "      <td>0.40</td>\n",
              "      <td>-2.88</td>\n",
              "      <td>-2.21</td>\n",
              "      <td>1.60</td>\n",
              "      <td>2.84</td>\n",
              "    </tr>\n",
              "  </tbody>\n",
              "</table>\n",
              "</div>"
            ],
            "text/plain": [
              "   code        date  day_of_week  ...  volume_65  kospi_65  market_65\n",
              "0    60  2017-01-04            2  ...     -15.69      1.60       3.51\n",
              "1    60  2017-01-05            3  ...     -30.33      1.42       2.28\n",
              "2    60  2017-01-06            4  ...      -8.79      1.78       2.73\n",
              "3    60  2017-01-09            0  ...     -33.00      1.78       3.30\n",
              "4    60  2017-01-10            1  ...      -2.21      1.60       2.84\n",
              "\n",
              "[5 rows x 17 columns]"
            ]
          },
          "metadata": {},
          "execution_count": 81
        }
      ]
    },
    {
      "cell_type": "code",
      "metadata": {
        "colab": {
          "base_uri": "https://localhost:8080/"
        },
        "id": "zJPyUtnjZs6j",
        "outputId": "bc73daea-049d-4418-bd17-70ed03d0d7f8"
      },
      "source": [
        "final_df.isna().sum()"
      ],
      "execution_count": null,
      "outputs": [
        {
          "output_type": "execute_result",
          "data": {
            "text/plain": [
              "code              0\n",
              "date              0\n",
              "day_of_week       0\n",
              "month             0\n",
              "market_name       0\n",
              "ascent_1          0\n",
              "volume_1       1137\n",
              "kospi_1           0\n",
              "market_1       1683\n",
              "ascent_20         0\n",
              "volume_20       790\n",
              "kospi_20          0\n",
              "market_20      1683\n",
              "ascent_65         0\n",
              "volume_65       584\n",
              "kospi_65          0\n",
              "market_65      1683\n",
              "dtype: int64"
            ]
          },
          "metadata": {},
          "execution_count": 82
        }
      ]
    },
    {
      "cell_type": "code",
      "metadata": {
        "id": "impxzGioiTBG"
      },
      "source": [
        "final_df.to_csv('final.csv', index=None, header=True)"
      ],
      "execution_count": null,
      "outputs": []
    },
    {
      "cell_type": "code",
      "metadata": {
        "id": "QmtMQt3laB1_"
      },
      "source": [
        ""
      ],
      "execution_count": null,
      "outputs": []
    }
  ]
}